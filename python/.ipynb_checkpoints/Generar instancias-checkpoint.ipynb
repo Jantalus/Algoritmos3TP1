{
 "cells": [
  {
   "cell_type": "markdown",
   "metadata": {},
   "source": [
    "# Imports"
   ]
  },
  {
   "cell_type": "code",
   "execution_count": 1,
   "metadata": {},
   "outputs": [],
   "source": [
    "import pandas as pd\n",
    "import numpy as np"
   ]
  },
  {
   "cell_type": "markdown",
   "metadata": {},
   "source": [
    "# Guardar instancias"
   ]
  },
  {
   "cell_type": "code",
   "execution_count": 2,
   "metadata": {},
   "outputs": [],
   "source": [
    "def guardarInstancia(dataset, instancia, S, RS, R):\n",
    "    with open(F\"instancias/{dataset}/{instancia}.txt\", \"w\") as f:\n",
    "        print(len(S), R, file=f)\n",
    "        for i in range(0,len(S)): # S claramente tiene que tener igual longitud que RS \n",
    "            print(S[i], file=f, end=\" \")\n",
    "            print(RS[i], file=f)"
   ]
  },
  {
   "cell_type": "markdown",
   "metadata": {},
   "source": [
    "# Dataset 1\n",
    "## Fuerza Bruta\n",
    "Vamos a hacer a hacer tres casos uno en el que no entre nada, uno en el que entren todos, y aleatorio"
   ]
  },
  {
   "cell_type": "code",
   "execution_count": 16,
   "metadata": {},
   "outputs": [],
   "source": [
    "#Caso donde nada entra, y ningun objeto puede apilarse uno encima de otro\n",
    "filaspd = []\n",
    "for n in range(1, 35):\n",
    "    S = [i for i in range(1, n+1)]\n",
    "    np.random.shuffle(S)\n",
    "    RS = S\n",
    "    R = min(RS) - 1\n",
    "    guardarInstancia(\"mejor-caso-FB\", \"FB-MC-\" + str(n), S, RS, R)\n",
    "    filaspd.append([\"mejor-caso-FB\", \"FB-MC-\" + str(n), n, R, \"instancias/mejor-caso-FB/FB-MC\" + str(n) + \".txt\"])\n",
    "pd.DataFrame(filaspd, columns=[\"dataset\", \"instancia\", \"n\", \"R\", \"archivo\"]).to_csv(\"instancias/mejor-caso-FB/indice.csv\", index=False, header=True)"
   ]
  },
  {
   "cell_type": "code",
   "execution_count": null,
   "metadata": {},
   "outputs": [],
   "source": [
    "#Caso donde entraria todo\n",
    "filaspd = []\n",
    "for n in range(1, 35):\n",
    "    S = [np.random.randint(low=i, high=n) for i in range(1,n+1)]\n",
    "    RS = S\n",
    "    np.random.shuffle(S)\n",
    "    # Todos los elementos resisten su peso\n",
    "\n",
    "    R = max(RS)\n",
    "    guardarInstancia(\"mejor-caso-FB\", \"FB-MC-\" + str(n), S, RS, R)\n",
    "    filaspd.append([\"mejor-caso-FB\", \"FB-MC-\" + str(n), n, R, \"instancias/mejor-caso-FB/FB-MC\" + str(n) + \".txt\"])\n",
    "pd.DataFrame(filaspd, columns=[\"dataset\", \"instancia\", \"n\", \"R\", \"archivo\"]).to_csv(\"instancias/mejor-caso-FB/indice.csv\", index=False, header=True)"
   ]
  }
 ],
 "metadata": {
  "kernelspec": {
   "display_name": "Python 3",
   "language": "python",
   "name": "python3"
  },
  "language_info": {
   "codemirror_mode": {
    "name": "ipython",
    "version": 3
   },
   "file_extension": ".py",
   "mimetype": "text/x-python",
   "name": "python",
   "nbconvert_exporter": "python",
   "pygments_lexer": "ipython3",
   "version": "3.7.3"
  }
 },
 "nbformat": 4,
 "nbformat_minor": 2
}
