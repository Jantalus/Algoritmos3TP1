{
 "cells": [
  {
   "cell_type": "markdown",
   "metadata": {},
   "source": [
    "# Imports"
   ]
  },
  {
   "cell_type": "code",
   "execution_count": 1,
   "metadata": {},
   "outputs": [],
   "source": [
    "import pandas as pd\n",
    "import numpy as np"
   ]
  },
  {
   "cell_type": "markdown",
   "metadata": {},
   "source": [
    "# Guardar instancias"
   ]
  },
  {
   "cell_type": "code",
   "execution_count": 2,
   "metadata": {},
   "outputs": [],
   "source": [
    "def guardarInstancia(dataset, instancia, S, RS, R):\n",
    "    with open(F\"instancias/{dataset}/{instancia}.txt\", \"w\") as f:\n",
    "        print(len(S), R, file=f)\n",
    "        for i in range(0,len(S)): # S claramente tiene que tener igual longitud que RS \n",
    "            print(S[i], file=f, end=\" \")\n",
    "            print(RS[i], file=f)"
   ]
  },
  {
   "cell_type": "markdown",
   "metadata": {},
   "source": [
    "# 3 Datasets\n",
    "## Fuerza Bruta\n",
    "Vamos a hacer a hacer tres casos uno en el que no entre nada, uno en el que entren todos, y aleatorio"
   ]
  },
  {
   "cell_type": "code",
   "execution_count": 3,
   "metadata": {},
   "outputs": [],
   "source": [
    "#Caso donde nada entra, y ningun objeto puede apilarse uno encima de otro\n",
    "filaspd = []\n",
    "for n in range(1, 35):\n",
    "    S = np.random.randint(low=50, high=100, size=n)\n",
    "    RS = S\n",
    "    np.random.shuffle(S)\n",
    "    S = S.tolist()\n",
    "    R = min(RS) - 1\n",
    "    guardarInstancia(\"nada-entra-FB\", \"FB-NE-\" + str(n), S, RS, R)\n",
    "    filaspd.append([\"nada-entra-FB\", \"FB-NE-\" + str(n), n, R, \"instancias/nada-entra-FB/FB-NE\" + str(n) + \".txt\"])\n",
    "pd.DataFrame(filaspd, columns=[\"dataset\", \"instancia\", \"n\", \"R\", \"archivo\"]).to_csv(\"instancias/nada-entra-FB/indice.csv\", index=False, header=True)"
   ]
  },
  {
   "cell_type": "code",
   "execution_count": 4,
   "metadata": {},
   "outputs": [],
   "source": [
    "#Caso donde entraria todo\n",
    "filaspd = []\n",
    "for n in range(1, 35):\n",
    "    S = np.random.randint(low=1, high=100, size=n)\n",
    "    S.sort()\n",
    "    \n",
    "    R = sum(S)\n",
    "    RS = [R]*n # asi aseguro que nada se rompe\n",
    "    guardarInstancia(\"todo-entra-FB\", \"FB-TE-\" + str(n), S, RS, R)\n",
    "    filaspd.append([\"todo-entra-FB\", \"FB-TE-\" + str(n), n, R, \"instancias/todo-entra-FB/FB-TE\" + str(n) + \".txt\"])\n",
    "pd.DataFrame(filaspd, columns=[\"dataset\", \"instancia\", \"n\", \"R\", \"archivo\"]).to_csv(\"instancias/todo-entra-FB/indice.csv\", index=False, header=True)"
   ]
  },
  {
   "cell_type": "code",
   "execution_count": 5,
   "metadata": {},
   "outputs": [],
   "source": [
    "filaspd = []\n",
    "for n in range(1,35):\n",
    "    S = np.random.randint(low=1,high=1000,size=n)\n",
    "    RS = np.random.randint(low=1,high=1000,size=n)\n",
    "    R = np.random.randint(low=1,high=1000)\n",
    "    # Todo aleatorio entre 1 y 1000\n",
    "    guardarInstancia(\"random-FB\", \"FB-R-\" + str(n), S, RS, R)\n",
    "    filaspd.append([\"random-FB\",\"FB-R-\" + str(n), n, R, \"instancias/random-FB/FB-R\" + str(n) + \".txt\"])\n",
    "pd.DataFrame(filaspd, columns=[\"dataset\", \"instancia\", \"n\", \"R\", \"archivo\"]).to_csv(\"instancias/random-FB/indice.csv\", index=False, header=True)"
   ]
  },
  {
   "cell_type": "markdown",
   "metadata": {},
   "source": [
    "# 2 Datasets\n",
    "## Back-Tracking Factibilidad\n",
    "Mejor caso hasta $n=200$ por ser lineal, peor caso hasta $n=34$"
   ]
  },
  {
   "cell_type": "code",
   "execution_count": 6,
   "metadata": {},
   "outputs": [],
   "source": [
    "# Mejor caso BT factibilidad\n",
    "# Como mencionamos en el informe, este seria que ningun elemento entre en el tubo\n",
    "# Y generamos hasta n 200 dado que es lineal el tiempo de ejecucion.\n",
    "filaspd = []\n",
    "for n in range(1,201):\n",
    "    S = np.random.randint(low=2,high=1000, size=n)\n",
    "    RS = np.random.randint(low=1,high=1000, size=n)\n",
    "    # Como todo pesa entre 2 y 1000, ponemos el tubo en R=1\n",
    "    R = 1\n",
    "    guardarInstancia(\"mejor-caso-BT-F\", \"BT-F-MC-\" + str(n), S, RS, R)\n",
    "    filaspd.append([\"mejor-caso-BT-F\",\"BT-F-MC-\" + str(n), n, R, \"/instancias/mejor-caso-BT-F/BT-F-MC-\" + str(n) + \".txt\"])\n",
    "pd.DataFrame(filaspd, columns=[\"dataset\", \"instancia\", \"n\", \"R\", \"archivo\"]).to_csv(\"instancias/mejor-caso-BT-F/indice.csv\")\n",
    "    "
   ]
  },
  {
   "cell_type": "code",
   "execution_count": 7,
   "metadata": {},
   "outputs": [],
   "source": [
    "# Peor caso BT factibilidad\n",
    "# Donde todo entra\n",
    "filaspd = []\n",
    "for n in range(1,35):\n",
    "    S = [i+1 for i in range(n)]\n",
    "    resMax = sum(S)\n",
    "    RS = [resMax for i in range(n)]\n",
    "    R = sum(S)\n",
    "    guardarInstancia(\"peor-caso-BT-F\", \"BT-F-PC-\" + str(n), S, RS, R)\n",
    "    filaspd.append([\"peor-caso-BT-F\",\"BT-F-PC-\" + str(n), n, R, \"/instancias/peor-caso-BT-F/BT-F-PC-\" + str(n) + \".txt\"])\n",
    "pd.DataFrame(filaspd, columns=[\"dataset\", \"instancia\", \"n\", \"R\", \"archivo\"]).to_csv(\"instancias/peor-caso-BT-F/indice.csv\")"
   ]
  },
  {
   "cell_type": "markdown",
   "metadata": {},
   "source": [
    "# Dataset\n",
    "## Back-Tracking optimalidad\n",
    "Solo tenemos peor caso \n"
   ]
  },
  {
   "cell_type": "code",
   "execution_count": 8,
   "metadata": {},
   "outputs": [],
   "source": [
    "# El peor caso de optimalidad es donde nada entra, y por lo tanto nunca encontramos algo optimo para podar \n",
    "filaspd = []\n",
    "for n in range(1,35):\n",
    "    S = np.random.randint(low=2,high=1000, size=n)\n",
    "    RS = np.random.randint(low=1,high=1000, size=n)\n",
    "    # Como todo pesa entre 2 y 1000, ponemos el tubo en R=1\n",
    "    R = 1\n",
    "    guardarInstancia(\"peor-caso-BT-O\", \"BT-O-PC-\" + str(n), S, RS, R)\n",
    "    filaspd.append([\"peor-caso-BT-O\",\"BT-O-PC-\" + str(n), n, R, \"/instancias/peor-caso-BT-O/BT-O-PC-\" + str(n) + \".txt\"])\n",
    "pd.DataFrame(filaspd, columns=[\"dataset\", \"instancia\", \"n\", \"R\", \"archivo\"]).to_csv(\"instancias/peor-caso-BT-O/indice.csv\")\n",
    "    \n"
   ]
  },
  {
   "cell_type": "markdown",
   "metadata": {},
   "source": [
    "\n",
    "# Dataset ratio de resistencia\n",
    "Hasta $n=200$, con $0<r_i/w_i \\leq 2$\n",
    "Este dataset sera compartido"
   ]
  },
  {
   "cell_type": "code",
   "execution_count": 9,
   "metadata": {},
   "outputs": [],
   "source": [
    "# Elementos con r/w <= 1, sin acotar por abajo, quizas estaria piola acotar abajo\n",
    "# osea en low = S[i]/2 ponele.\n",
    "filaspd = []\n",
    "for n in range(1,201):\n",
    "    S = np.random.randint(low=1,high=1000, size=n)\n",
    "    RS = [np.random.randint(low=1, high=S[i]+1) for i in range(0,n)]\n",
    "    # Para que potencialmente aguante todo\n",
    "    R = sum(S) + 1\n",
    "    guardarInstancia(\"ratio-resistencia<1\", \"<1-\" + str(n), S, RS, R)\n",
    "    filaspd.append([\"ratio-resistencia<1\",\"<1-\" + str(n), n, R, \"/instancias/ratio-resistencia<1/<1-\" + str(n) + \".txt\"])\n",
    "pd.DataFrame(filaspd, columns=[\"dataset\", \"instancia\", \"n\", \"R\", \"archivo\"]).to_csv(\"instancias/ratio-resistencia<1/indice.csv\")\n",
    "    "
   ]
  },
  {
   "cell_type": "code",
   "execution_count": 10,
   "metadata": {},
   "outputs": [],
   "source": [
    "# Elementos con r/w > 1, acotados por arriba hasta 2\n",
    "filaspd = []\n",
    "for n in range(1,201):\n",
    "    S = np.random.randint(low=1,high=1000, size=n)\n",
    "    RS = [np.random.randint(low=S[i], high=1000 + 1) for i in range(0,n)]\n",
    "    # Para que potencialmente aguante todo\n",
    "    R = sum(S) + 1\n",
    "    guardarInstancia(\"ratio-resistencia>1\", \">1-\" + str(n), S, RS, R)\n",
    "    filaspd.append([\"ratio-resistencia>1\",\">1-\" + str(n), n, R, \"/instancias/ratio-resistencia>1/>1-\" + str(n) + \".txt\"])\n",
    "pd.DataFrame(filaspd, columns=[\"dataset\", \"instancia\", \"n\", \"R\", \"archivo\"]).to_csv(\"instancias/ratio-resistencia>1/indice.csv\")\n"
   ]
  },
  {
   "cell_type": "markdown",
   "metadata": {},
   "source": [
    "# Dataset programacion dinamica\n",
    "Abarcamos una gran cantidad de numeros para programacion dinamica"
   ]
  },
  {
   "cell_type": "code",
   "execution_count": 12,
   "metadata": {},
   "outputs": [],
   "source": [
    "filaspd = []\n",
    "for n in range(1000, 8000, 500):\n",
    "    for R in range(1000, 8000, 500):\n",
    "        S = np.random.randint(low=1, high=1000, size=n)\n",
    "        RS = np.random.randint(low=1, high=1000, size=n)\n",
    "        guardarInstancia(\"dinamica\", \"DP-\" + str(n) + \"-\" + str(R), S, RS, R)\n",
    "        filaspd.append([\"dinamica\", \"DP-\" + str(n) + \"-\" + str(R), n, R,\"instancias/dinamica/\" + \"DP-\" + str(n) + \"-\" + str(R) + \".txt\"])\n",
    "pd.DataFrame(filaspd, columns=[\"dataset\", \"instancia\", \"n\", \"R\", \"archivo\"]).to_csv(\"instancias/dinamica/indice.csv\", index=False, header=True)"
   ]
  },
  {
   "cell_type": "code",
   "execution_count": 14,
   "metadata": {},
   "outputs": [
    {
     "name": "stdout",
     "output_type": "stream",
     "text": [
      "<generator object <genexpr> at 0x7fe00137d7c8>\n"
     ]
    }
   ],
   "source": [
    "print(n for n in range(1000,8000,500))"
   ]
  }
 ],
 "metadata": {
  "kernelspec": {
   "display_name": "Python 3",
   "language": "python",
   "name": "python3"
  },
  "language_info": {
   "codemirror_mode": {
    "name": "ipython",
    "version": 3
   },
   "file_extension": ".py",
   "mimetype": "text/x-python",
   "name": "python",
   "nbconvert_exporter": "python",
   "pygments_lexer": "ipython3",
   "version": "3.7.3"
  }
 },
 "nbformat": 4,
 "nbformat_minor": 2
}
