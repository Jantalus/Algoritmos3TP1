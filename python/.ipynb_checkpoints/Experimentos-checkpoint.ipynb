{
 "cells": [
  {
   "cell_type": "markdown",
   "metadata": {},
   "source": [
    "# Experimentos\n",
    "## Imports"
   ]
  },
  {
   "cell_type": "code",
   "execution_count": 45,
   "metadata": {},
   "outputs": [],
   "source": [
    "import subprocess as sp\n",
    "import pandas as pd\n",
    "import numpy as np\n",
    "import math\n",
    "from IPython.display import display, clear_output"
   ]
  },
  {
   "cell_type": "code",
   "execution_count": 63,
   "metadata": {},
   "outputs": [],
   "source": [
    "def leerInstancia(path):\n",
    "    with open(path, \"r\") as f:\n",
    "        return f.read();\n",
    "\n",
    "def correrExperimento(metodo, archivoInstancia):\n",
    "    instancia = leerInstancia(archivoInstancia)\n",
    "    \n",
    "    p = sp.run(F\"cat {archivoInstancia} | ../main {metodo}\", capture_output=True,text=True, shell=True, check=True)\n",
    "    # check verifica si salio con exit code 0 asi python puede levantar la excepcion\n",
    "    tiempo = float(p.stderr);\n",
    "    \n",
    "    \n",
    "    return tiempo"
   ]
  },
  {
   "cell_type": "code",
   "execution_count": 47,
   "metadata": {},
   "outputs": [],
   "source": [
    "df_FB_TE = pd.read_csv(\"instancias/todo-entra-FB/indice.csv\");\n",
    "df_FB_NE = pd.read_csv(\"instancias/nada-entra-FB/indice.csv\");\n",
    "df_FB_R = pd.read_csv(\"instancias/random-FB/indice.csv\");\n",
    "df_BT_F_MC = pd.read_csv(\"instancias/mejor-caso-BT-F/indice.csv\");\n",
    "df_BT_F_PC = pd.read_csv(\"instancias/peor-caso-BT-F/indice.csv\");"
   ]
  },
  {
   "cell_type": "code",
   "execution_count": 48,
   "metadata": {},
   "outputs": [],
   "source": [
    "df_BT_O_PC = pd.read_csv(\"instancias/peor-caso-BT-O/indice.csv\");\n",
    "df_PD = pd.read_csv(\"instancias/dinamica/indice.csv\");\n",
    "df_debiles = pd.read_csv(\"instancias/ratio-resistencia<1/indice.csv\");\n",
    "df_fuertes = pd.read_csv(\"instancias/ratio-resistencia>1/indice.csv\");"
   ]
  },
  {
   "cell_type": "markdown",
   "metadata": {},
   "source": [
    "## Organizamos los experimentos a correr"
   ]
  },
  {
   "cell_type": "code",
   "execution_count": 49,
   "metadata": {},
   "outputs": [],
   "source": [
    "experimentos = []\n"
   ]
  },
  {
   "cell_type": "markdown",
   "metadata": {},
   "source": [
    "### Fuerza bruta\n",
    "Caso todo entra\n",
    "Caso nada entra\n",
    "Caso random"
   ]
  },
  {
   "cell_type": "code",
   "execution_count": 50,
   "metadata": {},
   "outputs": [],
   "source": [
    "for n in range(0,34):\n",
    "    fila_n = df_FB_TE.iloc[n];\n",
    "    experimentos.append([fila_n[\"dataset\"], n+1, fila_n[\"R\"], \"FB\", fila_n[\"archivo\"]])\n",
    "\n",
    "for n in range(0,34):\n",
    "    fila_n = df_FB_NE.iloc[n];\n",
    "    experimentos.append([fila_n[\"dataset\"], n+1, fila_n[\"R\"], \"FB\", fila_n[\"archivo\"]])\n",
    "\n",
    "for n in range(0,34):\n",
    "    fila_n = df_FB_R.iloc[n];\n",
    "    experimentos.append([fila_n[\"dataset\"], n+1, fila_n[\"R\"], \"FB\", fila_n[\"archivo\"]])  \n"
   ]
  },
  {
   "cell_type": "markdown",
   "metadata": {},
   "source": [
    "### Back-Tracking Factibilidad\n",
    " - F Mejor caso\n",
    " - F Peor caso\n",
    " - F Objetos debiles\n",
    " - F Obejtos fuertes\n"
   ]
  },
  {
   "cell_type": "code",
   "execution_count": 51,
   "metadata": {},
   "outputs": [],
   "source": [
    "for n in range(0,200):\n",
    "    fila_n = df_BT_F_MC.iloc[n];\n",
    "    experimentos.append([fila_n[\"dataset\"], n+1, fila_n[\"R\"], \"BT-F\", fila_n[\"archivo\"]])\n",
    "\n",
    "for n in range(0,34):\n",
    "    fila_n = df_BT_F_PC.iloc[n];\n",
    "    experimentos.append([fila_n[\"dataset\"], n+1, fila_n[\"R\"], \"BT-F\", fila_n[\"archivo\"]])\n",
    "    \n",
    "for n in range(0,200):\n",
    "    fila_n = df_debiles.iloc[n];\n",
    "    experimentos.append([fila_n[\"dataset\"], n+1, fila_n[\"R\"], \"BT-F\", fila_n[\"archivo\"]])\n",
    "    \n",
    "for n in range(0,200):\n",
    "    fila_n = df_fuertes.iloc[n];\n",
    "    experimentos.append([fila_n[\"dataset\"], n+1, fila_n[\"R\"], \"BT-F\", fila_n[\"archivo\"]])"
   ]
  },
  {
   "cell_type": "markdown",
   "metadata": {},
   "source": [
    "### Back-Tracking Optimalidad\n",
    "- O Peor caso\n",
    "- O Objetos debiles\n",
    "- O Objetos fuertes"
   ]
  },
  {
   "cell_type": "code",
   "execution_count": 52,
   "metadata": {},
   "outputs": [],
   "source": [
    "for n in range(0,34):\n",
    "    fila_n = df_BT_O_PC.iloc[n];\n",
    "    experimentos.append([fila_n[\"dataset\"], n+1, fila_n[\"R\"], \"BT-O\", fila_n[\"archivo\"]])\n",
    "\n",
    "for n in range(0,200):\n",
    "    fila_n = df_debiles.iloc[n];\n",
    "    experimentos.append([fila_n[\"dataset\"], n+1, fila_n[\"R\"], \"BT-O\", fila_n[\"archivo\"]])\n",
    "\n",
    "for n in range(0,200):\n",
    "    fila_n = df_fuertes.iloc[n];\n",
    "    experimentos.append([fila_n[\"dataset\"], n+1, fila_n[\"R\"], \"BT-O\", fila_n[\"archivo\"]])\n",
    "    "
   ]
  },
  {
   "cell_type": "markdown",
   "metadata": {},
   "source": [
    "### Programacion Dinamica\n",
    "- Objetos debiles\n",
    "- Objetos fuertes\n",
    "- De a grandes saltos de n y R"
   ]
  },
  {
   "cell_type": "code",
   "execution_count": 53,
   "metadata": {},
   "outputs": [],
   "source": [
    "for n in range(0,200):\n",
    "    fila_n = df_debiles.iloc[n];\n",
    "    experimentos.append([fila_n[\"dataset\"], n+1, fila_n[\"R\"], \"DP\", fila_n[\"archivo\"]])\n",
    "\n",
    "for n in range(0,200):\n",
    "    fila_n = df_fuertes.iloc[n];\n",
    "    experimentos.append([fila_n[\"dataset\"], n+1, fila_n[\"R\"], \"DP\", fila_n[\"archivo\"]])\n",
    "\n",
    "for n in range(0, df_PD.shape[0]):\n",
    "    fila_n = df_PD.iloc[n];\n",
    "    experimentos.append([fila_n[\"dataset\"], fila_n[\"n\"], fila_n[\"R\"], \"DP\", fila_n[\"archivo\"]])\n",
    "    "
   ]
  },
  {
   "cell_type": "markdown",
   "metadata": {},
   "source": [
    "## Correr todo\n",
    "Darle tiempito"
   ]
  },
  {
   "cell_type": "code",
   "execution_count": 64,
   "metadata": {},
   "outputs": [
    {
     "data": {
      "text/plain": [
       "'Experimento: 103/1766'"
      ]
     },
     "metadata": {},
     "output_type": "display_data"
    },
    {
     "ename": "FileNotFoundError",
     "evalue": "[Errno 2] No such file or directory: '/instancias/mejor-caso-BT-F/BT-F-MC-1.txt'",
     "output_type": "error",
     "traceback": [
      "\u001b[0;31m---------------------------------------------------------------------------\u001b[0m",
      "\u001b[0;31mFileNotFoundError\u001b[0m                         Traceback (most recent call last)",
      "\u001b[0;32m<ipython-input-64-fbb0c17933aa>\u001b[0m in \u001b[0;36m<module>\u001b[0;34m\u001b[0m\n\u001b[1;32m     11\u001b[0m     \u001b[0mtiempos\u001b[0m \u001b[0;34m=\u001b[0m \u001b[0;34m[\u001b[0m\u001b[0;34m]\u001b[0m\u001b[0;34m\u001b[0m\u001b[0;34m\u001b[0m\u001b[0m\n\u001b[1;32m     12\u001b[0m     \u001b[0;32mfor\u001b[0m \u001b[0mi\u001b[0m \u001b[0;32min\u001b[0m \u001b[0mrange\u001b[0m\u001b[0;34m(\u001b[0m\u001b[0;36m0\u001b[0m\u001b[0;34m,\u001b[0m \u001b[0mT\u001b[0m\u001b[0;34m)\u001b[0m\u001b[0;34m:\u001b[0m\u001b[0;34m\u001b[0m\u001b[0;34m\u001b[0m\u001b[0m\n\u001b[0;32m---> 13\u001b[0;31m         \u001b[0mtiempos\u001b[0m\u001b[0;34m.\u001b[0m\u001b[0mappend\u001b[0m\u001b[0;34m(\u001b[0m\u001b[0mcorrerExperimento\u001b[0m\u001b[0;34m(\u001b[0m\u001b[0mexperimento\u001b[0m\u001b[0;34m[\u001b[0m\u001b[0;36m3\u001b[0m\u001b[0;34m]\u001b[0m\u001b[0;34m,\u001b[0m \u001b[0mexperimento\u001b[0m\u001b[0;34m[\u001b[0m\u001b[0;36m4\u001b[0m\u001b[0;34m]\u001b[0m\u001b[0;34m)\u001b[0m\u001b[0;34m)\u001b[0m\u001b[0;34m;\u001b[0m\u001b[0;34m\u001b[0m\u001b[0;34m\u001b[0m\u001b[0m\n\u001b[0m\u001b[1;32m     14\u001b[0m         \u001b[0mprint\u001b[0m\u001b[0;34m(\u001b[0m\u001b[0mtiempos\u001b[0m\u001b[0;34m)\u001b[0m\u001b[0;34m\u001b[0m\u001b[0;34m\u001b[0m\u001b[0m\n\u001b[1;32m     15\u001b[0m     \u001b[0mtiempo\u001b[0m \u001b[0;34m=\u001b[0m \u001b[0mnp\u001b[0m\u001b[0;34m.\u001b[0m\u001b[0mmedian\u001b[0m\u001b[0;34m(\u001b[0m\u001b[0mtiempos\u001b[0m\u001b[0;34m)\u001b[0m\u001b[0;34m;\u001b[0m\u001b[0;34m\u001b[0m\u001b[0;34m\u001b[0m\u001b[0m\n",
      "\u001b[0;32m<ipython-input-63-e3acacf4e922>\u001b[0m in \u001b[0;36mcorrerExperimento\u001b[0;34m(metodo, archivoInstancia)\u001b[0m\n\u001b[1;32m      4\u001b[0m \u001b[0;34m\u001b[0m\u001b[0m\n\u001b[1;32m      5\u001b[0m \u001b[0;32mdef\u001b[0m \u001b[0mcorrerExperimento\u001b[0m\u001b[0;34m(\u001b[0m\u001b[0mmetodo\u001b[0m\u001b[0;34m,\u001b[0m \u001b[0marchivoInstancia\u001b[0m\u001b[0;34m)\u001b[0m\u001b[0;34m:\u001b[0m\u001b[0;34m\u001b[0m\u001b[0;34m\u001b[0m\u001b[0m\n\u001b[0;32m----> 6\u001b[0;31m     \u001b[0minstancia\u001b[0m \u001b[0;34m=\u001b[0m \u001b[0mleerInstancia\u001b[0m\u001b[0;34m(\u001b[0m\u001b[0marchivoInstancia\u001b[0m\u001b[0;34m)\u001b[0m\u001b[0;34m\u001b[0m\u001b[0;34m\u001b[0m\u001b[0m\n\u001b[0m\u001b[1;32m      7\u001b[0m \u001b[0;34m\u001b[0m\u001b[0m\n\u001b[1;32m      8\u001b[0m     \u001b[0mp\u001b[0m \u001b[0;34m=\u001b[0m \u001b[0msp\u001b[0m\u001b[0;34m.\u001b[0m\u001b[0mrun\u001b[0m\u001b[0;34m(\u001b[0m\u001b[0;34mF\"cat {archivoInstancia} | ../main {metodo}\"\u001b[0m\u001b[0;34m,\u001b[0m \u001b[0mcapture_output\u001b[0m\u001b[0;34m=\u001b[0m\u001b[0;32mTrue\u001b[0m\u001b[0;34m,\u001b[0m\u001b[0mtext\u001b[0m\u001b[0;34m=\u001b[0m\u001b[0;32mTrue\u001b[0m\u001b[0;34m,\u001b[0m \u001b[0mshell\u001b[0m\u001b[0;34m=\u001b[0m\u001b[0;32mTrue\u001b[0m\u001b[0;34m,\u001b[0m \u001b[0mcheck\u001b[0m\u001b[0;34m=\u001b[0m\u001b[0;32mTrue\u001b[0m\u001b[0;34m)\u001b[0m\u001b[0;34m\u001b[0m\u001b[0;34m\u001b[0m\u001b[0m\n",
      "\u001b[0;32m<ipython-input-63-e3acacf4e922>\u001b[0m in \u001b[0;36mleerInstancia\u001b[0;34m(path)\u001b[0m\n\u001b[1;32m      1\u001b[0m \u001b[0;32mdef\u001b[0m \u001b[0mleerInstancia\u001b[0m\u001b[0;34m(\u001b[0m\u001b[0mpath\u001b[0m\u001b[0;34m)\u001b[0m\u001b[0;34m:\u001b[0m\u001b[0;34m\u001b[0m\u001b[0;34m\u001b[0m\u001b[0m\n\u001b[0;32m----> 2\u001b[0;31m     \u001b[0;32mwith\u001b[0m \u001b[0mopen\u001b[0m\u001b[0;34m(\u001b[0m\u001b[0mpath\u001b[0m\u001b[0;34m,\u001b[0m \u001b[0;34m\"r\"\u001b[0m\u001b[0;34m)\u001b[0m \u001b[0;32mas\u001b[0m \u001b[0mf\u001b[0m\u001b[0;34m:\u001b[0m\u001b[0;34m\u001b[0m\u001b[0;34m\u001b[0m\u001b[0m\n\u001b[0m\u001b[1;32m      3\u001b[0m         \u001b[0;32mreturn\u001b[0m \u001b[0mf\u001b[0m\u001b[0;34m.\u001b[0m\u001b[0mread\u001b[0m\u001b[0;34m(\u001b[0m\u001b[0;34m)\u001b[0m\u001b[0;34m;\u001b[0m\u001b[0;34m\u001b[0m\u001b[0;34m\u001b[0m\u001b[0m\n\u001b[1;32m      4\u001b[0m \u001b[0;34m\u001b[0m\u001b[0m\n\u001b[1;32m      5\u001b[0m \u001b[0;32mdef\u001b[0m \u001b[0mcorrerExperimento\u001b[0m\u001b[0;34m(\u001b[0m\u001b[0mmetodo\u001b[0m\u001b[0;34m,\u001b[0m \u001b[0marchivoInstancia\u001b[0m\u001b[0;34m)\u001b[0m\u001b[0;34m:\u001b[0m\u001b[0;34m\u001b[0m\u001b[0;34m\u001b[0m\u001b[0m\n",
      "\u001b[0;31mFileNotFoundError\u001b[0m: [Errno 2] No such file or directory: '/instancias/mejor-caso-BT-F/BT-F-MC-1.txt'"
     ]
    }
   ],
   "source": [
    "columnas = [\"dataset\", \"n\", \"R\", \"metodo\", \"tiempo\"];\n",
    "filas = [];\n",
    "numero = 1\n",
    "T = 5 # Numero de veces que se ejecuta cada experimento (para mayor fidelidad del tiempo).\n",
    "for experimento in experimentos:\n",
    "    # Voy mostrando que experimento se esta ejecutando.\n",
    "    clear_output(wait=True)\n",
    "    display('Experimento: ' + str(numero) + \"/\" + str(len(experimentos)))\n",
    "    numero += 1\n",
    "    \n",
    "    tiempos = []\n",
    "    for i in range(0, T):\n",
    "        tiempos.append(correrExperimento(experimento[3], experimento[4]));\n",
    "        print(tiempos)\n",
    "    tiempo = np.median(tiempos);\n",
    "    filas.append([experimento[0], experimento[1], experimento[2], experimento[3], tiempo]);\n",
    "df_resultado = pd.DataFrame(filas, columns=columnas);\n",
    "df_resultado.to_csv(\"resultados/resultado.csv\", index=False, header=True);"
   ]
  },
  {
   "cell_type": "code",
   "execution_count": 31,
   "metadata": {},
   "outputs": [],
   "source": [
    "from platform import python_version"
   ]
  },
  {
   "cell_type": "code",
   "execution_count": 32,
   "metadata": {},
   "outputs": [
    {
     "name": "stdout",
     "output_type": "stream",
     "text": [
      "3.7.5\n"
     ]
    }
   ],
   "source": [
    "print(python_version())\n"
   ]
  },
  {
   "cell_type": "code",
   "execution_count": null,
   "metadata": {},
   "outputs": [],
   "source": []
  }
 ],
 "metadata": {
  "kernelspec": {
   "display_name": "Python 3",
   "language": "python",
   "name": "python3"
  },
  "language_info": {
   "codemirror_mode": {
    "name": "ipython",
    "version": 3
   },
   "file_extension": ".py",
   "mimetype": "text/x-python",
   "name": "python",
   "nbconvert_exporter": "python",
   "pygments_lexer": "ipython3",
   "version": "3.7.5"
  }
 },
 "nbformat": 4,
 "nbformat_minor": 2
}
