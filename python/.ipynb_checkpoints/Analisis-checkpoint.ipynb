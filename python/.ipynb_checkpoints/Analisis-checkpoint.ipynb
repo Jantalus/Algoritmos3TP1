{
 "cells": [
  {
   "cell_type": "markdown",
   "metadata": {},
   "source": [
    "# Analisis"
   ]
  },
  {
   "cell_type": "code",
   "execution_count": 2,
   "metadata": {},
   "outputs": [],
   "source": [
    "import numpy as np\n",
    "import pandas as pd\n",
    "import seaborn as sns\n",
    "import matplotlib.pyplot as plt"
   ]
  },
  {
   "cell_type": "code",
   "execution_count": 3,
   "metadata": {},
   "outputs": [],
   "source": [
    "def correlacion_pearson(data_frame, columna1, columna2):\n",
    "    return np.corrcoef(data_frame[columna1], data_frame[columna2])[0,1];"
   ]
  },
  {
   "cell_type": "markdown",
   "metadata": {},
   "source": [
    "# Para obtener todo:\n",
    "Primero correr la notebook de generar instancias, hay que crear la capreta \"instancias\" y dentro de ella las correspondientes para cada dataset, luego correr.\n",
    "Proximo es correr toda la notebook de experimentos para guardar los resultados temporales.\n",
    "## Los casos\n",
    "Estos son:\n",
    "- FB\n",
    "    - Corrimos casos donde todo entra, nada entra, y random. Para mostrar que sin importar la instancia sigue recorriendo todo.\n",
    "- BT\n",
    "    - La complejidad con ambas podas, con poda por factibilidad y con poda por optimalidad\n",
    "    - Luego analizamos las podas para las distintas instancias, de objetos debiles y luego fuertes\n",
    "- PD\n",
    "    - Aqui corremos para objetos debiles, fuertes y para instancias aleatorias con n y R grandes con poca granularidad, es decir variando ambas variables de a grandes saltos.\n",
    "\n",
    "\n",
    "**Leemos las instancias**"
   ]
  },
  {
   "cell_type": "code",
   "execution_count": null,
   "metadata": {},
   "outputs": [],
   "source": [
    "df_resultados = pd.read_csv(\"resultados/resultado.csv\");\n",
    "df_resultados.head()"
   ]
  },
  {
   "cell_type": "markdown",
   "metadata": {},
   "source": [
    "# Experimento 1, Complejidad FB"
   ]
  },
  {
   "cell_type": "code",
   "execution_count": null,
   "metadata": {},
   "outputs": [],
   "source": [
    "# Graficamos los tiempos de ejecución de cada dataset en función de n.\n",
    "df_complejidad_FB = df_resultados[df_resultados[\"metodo\"]==\"FB\"].copy();\n",
    "fig = sns.scatterplot(data=df_complejidad_FB, x='n', y='tiempo', hue='dataset');\n",
    "# hue: agrupa los puntos segun esta lista, puede ser por string o numeros\n",
    "# en nuestro caso tenemos los puntos de distintos datasets\n",
    "fig.set(xlabel='n', ylabel='tiempo (ms)');\n",
    "plt.savefig(\"graficos/fb-densidades.svg\");"
   ]
  },
  {
   "cell_type": "code",
   "execution_count": null,
   "metadata": {},
   "outputs": [],
   "source": [
    "# Graficamos los tiempos de ejecución de las instancias contra complejidad esperada.\n",
    "df_complejidad_FB = df_resultados[df_resultados[\"metodo\"]==\"FB\"].copy();\n",
    "df_complejidad_FB[\"complejidad\"] = 2.0 ** df_complejidad_FB[\"n\"];\n",
    "fig = sns.lmplot(data=df_complejidad_FB, x=\"tiempo\", y=\"complejidad\");\n",
    "plt.savefig(\"graficos/fb-correlacion.svg\");\n",
    "print(\"Índice de correlación de Pearson:\", correlacion_pearson(df_complejidad_FB, \"tiempo\", \"complejidad\"));"
   ]
  },
  {
   "cell_type": "markdown",
   "metadata": {},
   "source": [
    "# Experimento 2, Complejidad BT"
   ]
  },
  {
   "cell_type": "markdown",
   "metadata": {},
   "source": [
    "## Mejor caso BT, ambas podas"
   ]
  },
  {
   "cell_type": "code",
   "execution_count": null,
   "metadata": {},
   "outputs": [],
   "source": [
    "\n",
    "df_BT_mejor_caso = df_resultados[(df_resultados[\"metodo\"]==\"BT\") & (df_resultados[\"dataset\"] == \"mejor-caso-BT\")].copy();\n",
    "df_BT_mejor_caso[\"tiempo_esperado\"] = df_BT_mejor_caso[\"n\"] * 0.0005; # Lineal\n",
    "fig = sns.scatterplot(data=df_BT_mejor_caso, x='n', y='tiempo');\n",
    "fig = sns.lineplot(data=df_BT_mejor_caso, x='n', y='tiempo_esperado', color=\"orange\");\n",
    "fig.legend(labels=['O(n)','BT']);\n",
    "fig.set(xlabel='n', ylabel='tiempo (ms)');\n",
    "plt.savefig(\"graficos/bt-complejidad-mejor-caso.svg\");"
   ]
  },
  {
   "cell_type": "code",
   "execution_count": null,
   "metadata": {},
   "outputs": [],
   "source": [
    "# Graficamos la correlacion entre los tiempos reales y la complejidad esperada\n",
    "df_BT_mejor_caso = df_resultados[(df_resultados[\"metodo\"]==\"BT\") & (df_resultados[\"dataset\"] == \"mejor-caso-BT\")].copy();\n",
    "df_BT_mejor_caso[\"complejidad\"] = df_BT_mejor_caso[\"n\"];\n",
    "fig = sns.lmplot(data=df_BT_mejor_caso, x=\"tiempo\", y=\"complejidad\");\n",
    "plt.savefig(\"graficos/bt-correlacion-mejor-caso.svg\");\n",
    "print(\"Índice de correlación de Pearson:\", correlacion_pearson(df_BT_mejor_caso, \"tiempo\", \"complejidad\"));"
   ]
  },
  {
   "cell_type": "markdown",
   "metadata": {},
   "source": [
    "## Peor caso BT, ambas podas"
   ]
  },
  {
   "cell_type": "code",
   "execution_count": null,
   "metadata": {},
   "outputs": [],
   "source": [
    "\n",
    "df_BT_peor_caso = df_resultados[(df_resultados[\"metodo\"]==\"BT\") & (df_resultados[\"dataset\"] == \"peor-caso-BT\")].copy();\n",
    "df_BT_peor_caso[\"tiempo_esperado\"] = df_BT_peor_caso[\"n\"] * 0.0005; # Lineal\n",
    "fig = sns.scatterplot(data=df_BT_peor_caso, x='n', y='tiempo');\n",
    "fig = sns.lineplot(data=df_BT_peor_caso, x='n', y='tiempo_esperado', color=\"orange\");\n",
    "fig.legend(labels=['O(n)','BT']);\n",
    "fig.set(xlabel='n', ylabel='tiempo (ms)');\n",
    "plt.savefig(\"graficos/bt-complejidad-mejor-caso.svg\");"
   ]
  },
  {
   "cell_type": "code",
   "execution_count": null,
   "metadata": {},
   "outputs": [],
   "source": [
    "# Correlacion\n",
    "\n",
    "df_BT_peor_caso = df_resultados[(df_resultados[\"metodo\"]==\"BT\") & (df_resultados[\"dataset\"] == \"peor-caso-BT\")].copy();\n",
    "df_BT_peor_caso[\"tiempo_esperado\"] = df_BT_peor_caso[\"n\"] * 0.0005; # Lineal\n",
    "fig = sns.scatterplot(data=df_BT_peor_caso, x='n', y='tiempo');\n",
    "fig = sns.lineplot(data=df_BT_peor_caso, x='n', y='tiempo_esperado', color=\"orange\");\n",
    "fig.legend(labels=['O(n)','BT']);\n",
    "fig.set(xlabel='n', ylabel='tiempo (ms)');\n",
    "plt.savefig(\"graficos/bt-complejidad-mejor-caso.svg\");"
   ]
  },
  {
   "cell_type": "markdown",
   "metadata": {},
   "source": [
    "## Analisis de las podas"
   ]
  },
  {
   "cell_type": "code",
   "execution_count": null,
   "metadata": {},
   "outputs": [],
   "source": [
    "# Para objetos fuertes\n",
    "df_BT_fuertes = df_resultados[((df_resultados[\"metodo\"]==\"BT\") | (df_resultados[\"metodo\"]==\"BT-F\") | (df_resultados[\"metodo\"]==\"BT-O\")) & (df_resultados[\"dataset\"] == \"ratio-resistenciaM1\")].copy();\n",
    "#df_BT_fuertes = df_BT_fuertes[df_BT_fuertes[\"tiempo\"] < 2000]; # Sacamos outliers.\n",
    "fig = sns.scatterplot(data=df_BT_fuertes, x='n', y='tiempo', hue='metodo');\n",
    "fig.set(xlabel='n', ylabel='tiempo (ms)');\n",
    "plt.savefig(\"graficos/bt-podas-alta.svg\");"
   ]
  },
  {
   "cell_type": "code",
   "execution_count": null,
   "metadata": {},
   "outputs": [],
   "source": [
    "# Para objetos debiles\n",
    "df_BT_debiles = df_resultados[((df_resultados[\"metodo\"]==\"BT\") | (df_resultados[\"metodo\"]==\"BT-F\") | (df_resultados[\"metodo\"]==\"BT-O\")) & (df_resultados[\"dataset\"] == \"ratio-resistenciam1\")].copy();\n",
    "fig = sns.scatterplot(data=df_BT_debiles, x='n', y='tiempo', hue='metodo');\n",
    "fig.set(xlabel='n', ylabel='tiempo (ms)');\n",
    "plt.savefig(\"graficos/bt-podas-alta.svg\");"
   ]
  },
  {
   "cell_type": "markdown",
   "metadata": {},
   "source": [
    "## Complejidad de Programacion Dinamica"
   ]
  },
  {
   "cell_type": "code",
   "execution_count": null,
   "metadata": {},
   "outputs": [],
   "source": [
    "#Variamos el n, y fijamos un R\n",
    "df_dinamica = df_resultados[(df_resultados[\"metodo\"]==\"DP\") & (df_resultados[\"dataset\"]==\"dinamica\")].copy();\n",
    "fig = sns.scatterplot(data=df_dinamica[df_dinamica[\"R\"]==1000], x='n', y='tiempo');\n",
    "fig = sns.scatterplot(data=df_dinamica[df_dinamica[\"R\"]==3000], x='n', y='tiempo');\n",
    "fig = sns.scatterplot(data=df_dinamica[df_dinamica[\"R\"]==5000], x='n', y='tiempo');\n",
    "fig = sns.scatterplot(data=df_dinamica[df_dinamica[\"R\"]==7000], x='n', y='tiempo');\n",
    "fig.legend(labels=['R=1000','R=3000','R=5000','R=7000']);\n",
    "fig.set(xlabel='n', ylabel='tiempo (ms)');\n",
    "plt.savefig(\"graficos/dp-n.svg\");"
   ]
  },
  {
   "cell_type": "code",
   "execution_count": null,
   "metadata": {},
   "outputs": [],
   "source": [
    "# Graficamos el tiempo de ejecución de las distintas instancias ordenadas por n y W.\n",
    "df_dinamica = df_resultados[(df_resultados[\"metodo\"]==\"DP\") & (df_resultados[\"dataset\"]==\"dinamica\")].copy();\n",
    "df_heatmap = df_dinamica.pivot_table(index='n', columns='W', values='tiempo', aggfunc=np.mean);\n",
    "fig = sns.heatmap(df_heatmap);\n",
    "fig.invert_yaxis();\n",
    "plt.savefig(\"graficos/dp-heatmap.svg\");"
   ]
  }
 ],
 "metadata": {
  "kernelspec": {
   "display_name": "Python 3",
   "language": "python",
   "name": "python3"
  },
  "language_info": {
   "codemirror_mode": {
    "name": "ipython",
    "version": 3
   },
   "file_extension": ".py",
   "mimetype": "text/x-python",
   "name": "python",
   "nbconvert_exporter": "python",
   "pygments_lexer": "ipython3",
   "version": "3.7.3"
  }
 },
 "nbformat": 4,
 "nbformat_minor": 2
}
