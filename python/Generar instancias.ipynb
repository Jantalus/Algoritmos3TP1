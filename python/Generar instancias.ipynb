{
 "cells": [
  {
   "cell_type": "markdown",
   "metadata": {},
   "source": [
    "# Imports"
   ]
  },
  {
   "cell_type": "code",
   "execution_count": 1,
   "metadata": {},
   "outputs": [],
   "source": [
    "import pandas as pd\n",
    "import numpy as np"
   ]
  },
  {
   "cell_type": "markdown",
   "metadata": {},
   "source": [
    "# Guardar instancias"
   ]
  },
  {
   "cell_type": "code",
   "execution_count": 2,
   "metadata": {},
   "outputs": [],
   "source": [
    "def guardarInstancia(dataset, instancia, S, RS, R):\n",
    "    with open(F\"instancias/{dataset}/{instancia}.txt\", \"w\") as f:\n",
    "        print(len(S), R, file=f)\n",
    "        for i in range(0,len(S)): # S claramente tiene que tener igual longitud que RS \n",
    "            print(S[i], file=f, end=\" \")\n",
    "            print(RS[i], file=f)"
   ]
  },
  {
   "cell_type": "markdown",
   "metadata": {},
   "source": [
    "# 3 Datasets\n",
    "## Fuerza Bruta\n",
    "Vamos a hacer a hacer tres casos uno en el que no entre nada, uno en el que entren todos, y aleatorio"
   ]
  },
  {
   "cell_type": "code",
   "execution_count": 71,
   "metadata": {},
   "outputs": [],
   "source": [
    "#Caso donde nada entra, y ningun objeto puede apilarse uno encima de otro\n",
    "filaspd = []\n",
    "for n in range(1, 35):\n",
    "    S = np.random.randint(low=50, high=100, size=n)\n",
    "    RS = S\n",
    "    np.random.shuffle(S)\n",
    "    S = S.tolist()\n",
    "    R = min(RS) - 1\n",
    "    guardarInstancia(\"nada-entra-FB\", \"FB-NE-\" + str(n), S, RS, R)\n",
    "    filaspd.append([\"nada-entra-FB\", \"FB-NE-\" + str(n), n, R, \"instancias/nada-entra-FB/FB-NE\" + str(n) + \".txt\"])\n",
    "pd.DataFrame(filaspd, columns=[\"dataset\", \"instancia\", \"n\", \"R\", \"archivo\"]).to_csv(\"instancias/nada-entra-FB/indice.csv\", index=False, header=True)"
   ]
  },
  {
   "cell_type": "code",
   "execution_count": 29,
   "metadata": {},
   "outputs": [],
   "source": [
    "#Caso donde entraria todo\n",
    "filaspd = []\n",
    "for n in range(1, 35):\n",
    "    S = np.random.randint(low=1, high=100, size=n)\n",
    "    S.sort()\n",
    "    \n",
    "    R = sum(S)\n",
    "    RS = [R]*n # asi aseguro que nada se rompe\n",
    "    guardarInstancia(\"todo-entra-FB\", \"FB-TE-\" + str(n), S, RS, R)\n",
    "    filaspd.append([\"todo-entra-FB\", \"FB-TE-\" + str(n), n, R, \"instancias/todo-entra-FB/FB-TE\" + str(n) + \".txt\"])\n",
    "pd.DataFrame(filaspd, columns=[\"dataset\", \"instancia\", \"n\", \"R\", \"archivo\"]).to_csv(\"instancias/todo-entra-FB/indice.csv\", index=False, header=True)"
   ]
  },
  {
   "cell_type": "code",
   "execution_count": 75,
   "metadata": {},
   "outputs": [],
   "source": [
    "filaspd = []\n",
    "for n in range(1,35):\n",
    "    S = np.random.randint(low=1,high=1000,size=n)\n",
    "    RS = np.random.randint(low=1,high=1000,size=n)\n",
    "    R = np.random.randint(low=1,high=1000)\n",
    "    # Todo aleatorio entre 1 y 1000\n",
    "    guardarInstancia(\"random-FB\", \"FB-R-\" + str(n), S, RS, R)\n",
    "    filaspd.append([\"random-FB\",\"FB-R-\" + str(n), n, R, \"instancias/random-FB/FB-R\" + str(n) + \".txt\"])\n",
    "pd.DataFrame(filaspd, columns=[\"dataset\", \"instancia\", \"n\", \"R\", \"archivo\"]).to_csv(\"instancias/random-FB/indice.csv\", index=False, header=True)"
   ]
  },
  {
   "cell_type": "markdown",
   "metadata": {},
   "source": [
    "# 2 Datasets\n",
    "## Back-Tracking\n",
    "Mejor caso, peor caso hasta $n=200$"
   ]
  },
  {
   "cell_type": "code",
   "execution_count": null,
   "metadata": {},
   "outputs": [],
   "source": [
    "# Mejor caso BT"
   ]
  },
  {
   "cell_type": "code",
   "execution_count": null,
   "metadata": {},
   "outputs": [],
   "source": [
    "# Peor caso BT"
   ]
  },
  {
   "cell_type": "markdown",
   "metadata": {},
   "source": [
    "# Dataset ratio de resistencia\n",
    "Hasta $n=200$, con $0<r_i/w_i \\leq 2$\n",
    "Este dataset sera compartido"
   ]
  },
  {
   "cell_type": "code",
   "execution_count": 80,
   "metadata": {},
   "outputs": [],
   "source": [
    "# Elementos con r/w <= 1, sin acotar por abajo, quizas estaria piola acotar abajo\n",
    "# osea en low = S[i]/2 ponele.\n",
    "filaspd = []\n",
    "for n in range(1,201):\n",
    "    S = np.random.randint(low=1,high=1000, size=n)\n",
    "    RS = [np.random.randint(low=1, high=S[i]+1) for i in range(0,n)]\n",
    "    # Para que potencialmente aguante todo\n",
    "    R = sum(S) + 1\n",
    "    guardarInstancia(\"ratio-resistencia<1\", \"<1-\" + str(n), S, RS, R)\n",
    "    filaspd.append([\"ratio-resistencia<1\",\"<1-\" + str(n), n, R, \"/instancias/ratio-resistencia<1/<1-\" + str(n) + \".txt\"])\n",
    "pd.DataFrame(filaspd, columns=[\"dataset\", \"instancia\", \"n\", \"R\", \"archivo\"]).to_csv(\"instancias/ratio-resistencia<1/indice.csv\")\n",
    "    "
   ]
  },
  {
   "cell_type": "code",
   "execution_count": 82,
   "metadata": {},
   "outputs": [],
   "source": [
    "# Elementos con r/w > 1, acotados por arriba hasta 2\n",
    "filaspd = []\n",
    "for n in range(1,201):\n",
    "    S = np.random.randint(low=1,high=1000, size=n)\n",
    "    RS = [np.random.randint(low=S[i], high=1000 + 1) for i in range(0,n)]\n",
    "    # Para que potencialmente aguante todo\n",
    "    R = sum(S) + 1\n",
    "    guardarInstancia(\"ratio-resistencia>1\", \">1-\" + str(n), S, RS, R)\n",
    "    filaspd.append([\"ratio-resistencia>1\",\">1-\" + str(n), n, R, \"/instancias/ratio-resistencia>1/>1-\" + str(n) + \".txt\"])\n",
    "pd.DataFrame(filaspd, columns=[\"dataset\", \"instancia\", \"n\", \"R\", \"archivo\"]).to_csv(\"instancias/ratio-resistencia>1/indice.csv\")\n"
   ]
  },
  {
   "cell_type": "markdown",
   "metadata": {},
   "source": [
    "# Dataset programacion dinamica\n",
    "Abarcamos una gran cantidad de numeros para programacion dinamica"
   ]
  },
  {
   "cell_type": "code",
   "execution_count": null,
   "metadata": {},
   "outputs": [],
   "source": [
    "filas_indice = []\n",
    "for n in range(1000, 8000, 500):\n",
    "    for W in range(1000, 8000, 500):\n",
    "        S = np.random.randint(low=1, high=1000, size=n)\n",
    "        RS = np.random.randint(low=1, high=1000, size=n)\n",
    "        save_instance(\"dinamica\", \"DP-\" + str(n) + \"-\" + str(R), S, RS, R)\n",
    "        filas_indice.append([\"dinamica\", \"DP-\" + str(n) + \"-\" + str(R), n, R, \".txt\"])\n",
    "pd.DataFrame(filas_indice, columns=[\"dataset\", \"instancia\", \"n\", \"R\", \"archivo\"]).to_csv(\"instancias/dinamica/indice.csv\", index=False, header=True)"
   ]
  }
 ],
 "metadata": {
  "kernelspec": {
   "display_name": "Python 3",
   "language": "python",
   "name": "python3"
  },
  "language_info": {
   "codemirror_mode": {
    "name": "ipython",
    "version": 3
   },
   "file_extension": ".py",
   "mimetype": "text/x-python",
   "name": "python",
   "nbconvert_exporter": "python",
   "pygments_lexer": "ipython3",
   "version": "3.7.3"
  }
 },
 "nbformat": 4,
 "nbformat_minor": 2
}
