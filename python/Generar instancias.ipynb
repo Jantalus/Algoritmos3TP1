{
 "cells": [
  {
   "cell_type": "markdown",
   "metadata": {},
   "source": [
    "# Imports"
   ]
  },
  {
   "cell_type": "code",
   "execution_count": 1,
   "metadata": {},
   "outputs": [],
   "source": [
    "import pandas as pd\n",
    "import numpy as np"
   ]
  },
  {
   "cell_type": "markdown",
   "metadata": {},
   "source": [
    "# Guardar instancias"
   ]
  },
  {
   "cell_type": "code",
   "execution_count": 2,
   "metadata": {},
   "outputs": [],
   "source": [
    "def guardarInstancia(dataset, instancia, S, RS, R):\n",
    "    with open(F\"instancias/{dataset}/{instancia}.txt\", \"w\") as f:\n",
    "        print(len(S), R, file=f)\n",
    "        for i in range(0,len(S)): # S claramente tiene que tener igual longitud que RS \n",
    "            print(S[i], file=f, end=\" \")\n",
    "            print(RS[i], file=f)"
   ]
  },
  {
   "cell_type": "markdown",
   "metadata": {},
   "source": [
    "# 3 Datasets\n",
    "## Fuerza Bruta\n",
    "Vamos a hacer a hacer tres casos uno en el que no entre nada, uno en el que entren todos, y aleatorio"
   ]
  },
  {
   "cell_type": "code",
   "execution_count": 71,
   "metadata": {},
   "outputs": [],
   "source": [
    "#Caso donde nada entra, y ningun objeto puede apilarse uno encima de otro\n",
    "filaspd = []\n",
    "for n in range(1, 35):\n",
    "    S = np.random.randint(low=50, high=100, size=n)\n",
    "    RS = S\n",
    "    np.random.shuffle(S)\n",
    "    S = S.tolist()\n",
    "    R = min(RS) - 1\n",
    "    guardarInstancia(\"nada-entra-FB\", \"FB-NE-\" + str(n), S, RS, R)\n",
    "    filaspd.append([\"nada-entra-FB\", \"FB-NE-\" + str(n), n, R, \"instancias/nada-entra-FB/FB-NE\" + str(n) + \".txt\"])\n",
    "pd.DataFrame(filaspd, columns=[\"dataset\", \"instancia\", \"n\", \"R\", \"archivo\"]).to_csv(\"instancias/nada-entra-FB/indice.csv\", index=False, header=True)"
   ]
  },
  {
   "cell_type": "code",
   "execution_count": 29,
   "metadata": {},
   "outputs": [],
   "source": [
    "#Caso donde entraria todo\n",
    "filaspd = []\n",
    "for n in range(1, 35):\n",
    "    S = np.random.randint(low=1, high=100, size=n)\n",
    "    S.sort()\n",
    "    \n",
    "    R = sum(S)\n",
    "    RS = [R]*n # asi aseguro que nada se rompe\n",
    "    guardarInstancia(\"todo-entra-FB\", \"FB-TE-\" + str(n), S, RS, R)\n",
    "    filaspd.append([\"todo-entra-FB\", \"FB-TE-\" + str(n), n, R, \"instancias/todo-entra-FB/FB-TE\" + str(n) + \".txt\"])\n",
    "pd.DataFrame(filaspd, columns=[\"dataset\", \"instancia\", \"n\", \"R\", \"archivo\"]).to_csv(\"instancias/todo-entra-FB/indice.csv\", index=False, header=True)"
   ]
  },
  {
   "cell_type": "markdown",
   "metadata": {},
   "source": [
    "## OJO, estas las vamos a usar para el resto, pero en FB solo las primeras 34"
   ]
  },
  {
   "cell_type": "code",
   "execution_count": 75,
   "metadata": {},
   "outputs": [],
   "source": [
    "filaspd = []\n",
    "for n in range(1,35):\n",
    "    S = np.random.randint(low=1,high=1000,size=n)\n",
    "    RS = np.random.randint(low=1,high=1000,size=n)\n",
    "    R = np.random.randint(low=1,high=1000)\n",
    "    # Todo aleatorio entre 1 y 1000\n",
    "    guardarInstancia(\"random-FB\", \"FB-R-\" + str(n), S, RS, R)\n",
    "    filaspd.append([\"random-FB\",\"FB-R-\" + str(n), n, R, \"instancias/random-FB/FB-R\" + str(n) + \".txt\"])\n",
    "pd.DataFrame(filaspd, columns=[\"dataset\", \"instancia\", \"n\", \"R\", \"archivo\"]).to_csv(\"instancias/random-FB/indice.csv\", index=False, header=True)"
   ]
  },
  {
   "cell_type": "markdown",
   "metadata": {},
   "source": [
    "# Datasets\n",
    "## Back-Tracking\n"
   ]
  },
  {
   "cell_type": "code",
   "execution_count": null,
   "metadata": {},
   "outputs": [],
   "source": []
  }
 ],
 "metadata": {
  "kernelspec": {
   "display_name": "Python 3",
   "language": "python",
   "name": "python3"
  },
  "language_info": {
   "codemirror_mode": {
    "name": "ipython",
    "version": 3
   },
   "file_extension": ".py",
   "mimetype": "text/x-python",
   "name": "python",
   "nbconvert_exporter": "python",
   "pygments_lexer": "ipython3",
   "version": "3.7.3"
  }
 },
 "nbformat": 4,
 "nbformat_minor": 2
}
