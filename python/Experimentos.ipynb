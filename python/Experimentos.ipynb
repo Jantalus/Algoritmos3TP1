{
 "cells": [
  {
   "cell_type": "markdown",
   "metadata": {},
   "source": [
    "# Experimentos\n",
    "## Imports"
   ]
  },
  {
   "cell_type": "code",
   "execution_count": 1,
   "metadata": {},
   "outputs": [],
   "source": [
    "import subprocess as sp\n",
    "import pandas as pd\n",
    "import numpy as np\n",
    "import math\n",
    "from IPython.display import display, clear_output"
   ]
  },
  {
   "cell_type": "code",
   "execution_count": 2,
   "metadata": {},
   "outputs": [],
   "source": [
    "def leerInstancia(path):\n",
    "    with open(path, \"r\") as f:\n",
    "        return f.read();\n",
    "\n",
    "def correrExperimento(metodo, archivoInstancia):\n",
    "    instancia = leerInstancia(archivoInstancia)\n",
    "    \n",
    "    p = sp.run(F\"cat {archivoInstancia} | ../main {metodo}\", capture_output=True,text=True, shell=True, check=True)\n",
    "    # check verifica si salio con exit code 0 asi python puede levantar la excepcion\n",
    "    tiempo = float(p.stderr);\n",
    "    \n",
    "    \n",
    "    return tiempo"
   ]
  },
  {
   "cell_type": "code",
   "execution_count": 3,
   "metadata": {},
   "outputs": [],
   "source": [
    "df_FB_TE = pd.read_csv(\"instancias/todo-entra-FB/indice.csv\");\n",
    "df_FB_NE = pd.read_csv(\"instancias/nada-entra-FB/indice.csv\");\n",
    "df_FB_R = pd.read_csv(\"instancias/random-FB/indice.csv\");\n",
    "df_BT_F_MC = pd.read_csv(\"instancias/mejor-caso-BT-F/indice.csv\");\n",
    "df_BT_F_PC = pd.read_csv(\"instancias/peor-caso-BT-F/indice.csv\");"
   ]
  },
  {
   "cell_type": "code",
   "execution_count": 4,
   "metadata": {},
   "outputs": [],
   "source": [
    "df_BT_O_PC = pd.read_csv(\"instancias/peor-caso-BT-O/indice.csv\");\n",
    "df_PD = pd.read_csv(\"instancias/dinamica/indice.csv\");\n",
    "df_debiles = pd.read_csv(\"instancias/ratio-resistenciam1/indice.csv\");\n",
    "df_fuertes = pd.read_csv(\"instancias/ratio-resistenciaM1/indice.csv\");"
   ]
  },
  {
   "cell_type": "markdown",
   "metadata": {},
   "source": [
    "## Organizamos los experimentos a correr"
   ]
  },
  {
   "cell_type": "code",
   "execution_count": 5,
   "metadata": {},
   "outputs": [],
   "source": [
    "experimentos = []\n"
   ]
  },
  {
   "cell_type": "markdown",
   "metadata": {},
   "source": [
    "### Fuerza bruta\n",
    "Caso todo entra\n",
    "Caso nada entra\n",
    "Caso random"
   ]
  },
  {
   "cell_type": "code",
   "execution_count": 6,
   "metadata": {},
   "outputs": [],
   "source": [
    "#for n in range(0,30):\n",
    "#    fila_n = df_FB_TE.iloc[n];\n",
    "#    experimentos.append([fila_n[\"dataset\"], n+1, fila_n[\"R\"], \"FB\", fila_n[\"archivo\"]])\n",
    "\n",
    "#for n in range(0,30):\n",
    "#    fila_n = df_FB_NE.iloc[n];\n",
    "#    experimentos.append([fila_n[\"dataset\"], n+1, fila_n[\"R\"], \"FB\", fila_n[\"archivo\"]])\n",
    "\n",
    "#for n in range(0,30):\n",
    "#    fila_n = df_FB_R.iloc[n];\n",
    "#    experimentos.append([fila_n[\"dataset\"], n+1, fila_n[\"R\"], \"FB\", fila_n[\"archivo\"]])  \n"
   ]
  },
  {
   "cell_type": "markdown",
   "metadata": {},
   "source": [
    "### Back-Tracking Factibilidad\n",
    " - F Mejor caso\n",
    " - F Peor caso\n",
    " - F Objetos debiles\n",
    " - F Obejtos fuertes\n"
   ]
  },
  {
   "cell_type": "code",
   "execution_count": 7,
   "metadata": {},
   "outputs": [],
   "source": [
    "#for n in range(0,200):\n",
    "#    fila_n = df_BT_F_MC.iloc[n];\n",
    "#    experimentos.append([fila_n[\"dataset\"], n+1, fila_n[\"R\"], \"BT-F\", fila_n[\"archivo\"]])\n",
    "\n",
    "#for n in range(0,30):\n",
    "#    fila_n = df_BT_F_PC.iloc[n];\n",
    "#    experimentos.append([fila_n[\"dataset\"], n+1, fila_n[\"R\"], \"BT-F\", fila_n[\"archivo\"]])\n",
    "    \n",
    "for n in range(0,300):\n",
    "    fila_n = df_debiles.iloc[n];\n",
    "    experimentos.append([fila_n[\"dataset\"], n+1, fila_n[\"R\"], \"BT-F\", fila_n[\"archivo\"]])\n",
    "    \n",
    "#for n in range(0,110):\n",
    "#    fila_n = df_fuertes.iloc[n];\n",
    "#    experimentos.append([fila_n[\"dataset\"], n+1, fila_n[\"R\"], \"BT-F\", fila_n[\"archivo\"]])"
   ]
  },
  {
   "cell_type": "markdown",
   "metadata": {},
   "source": [
    "### Back-Tracking Optimalidad\n",
    "- O Peor caso\n",
    "- O Objetos debiles\n",
    "- O Objetos fuertes"
   ]
  },
  {
   "cell_type": "code",
   "execution_count": 8,
   "metadata": {},
   "outputs": [],
   "source": [
    "#for n in range(0,30):\n",
    "#    fila_n = df_BT_O_PC.iloc[n];\n",
    "#    experimentos.append([fila_n[\"dataset\"], n+1, fila_n[\"R\"], \"BT-O\", fila_n[\"archivo\"]])\n",
    "\n",
    "#for n in range(0,30):\n",
    "#    fila_n = df_debiles.iloc[n];\n",
    "#    experimentos.append([fila_n[\"dataset\"], n+1, fila_n[\"R\"], \"BT-O\", fila_n[\"archivo\"]])\n",
    "\n",
    "#for n in range(0,30):\n",
    "#    fila_n = df_fuertes.iloc[n];\n",
    "#    experimentos.append([fila_n[\"dataset\"], n+1, fila_n[\"R\"], \"BT-O\", fila_n[\"archivo\"]])\n",
    "    "
   ]
  },
  {
   "cell_type": "markdown",
   "metadata": {},
   "source": [
    "# BT"
   ]
  },
  {
   "cell_type": "code",
   "execution_count": 9,
   "metadata": {},
   "outputs": [],
   "source": [
    "#for n in range(0,30):\n",
    "#    fila_n = df_BT_O_PC.iloc[n];\n",
    "#    experimentos.append([fila_n[\"dataset\"], n+1, fila_n[\"R\"], \"BT\", fila_n[\"archivo\"]])\n",
    "    \n",
    "#for n in range(0,200):\n",
    "#    fila_n = df_BT_F_MC.iloc[n];\n",
    "#    experimentos.append([fila_n[\"dataset\"], n+1, fila_n[\"R\"], \"BT\", fila_n[\"archivo\"]])\n",
    "\n",
    "#for n in range(0,300):\n",
    "#    fila_n = df_debiles.iloc[n];\n",
    "#    experimentos.append([fila_n[\"dataset\"], n+1, fila_n[\"R\"], \"BT\", fila_n[\"archivo\"]])\n",
    "\n",
    "#for n in range(0,130):\n",
    "#    fila_n = df_fuertes.iloc[n];\n",
    "#    experimentos.append([fila_n[\"dataset\"], n+1, fila_n[\"R\"], \"BT\", fila_n[\"archivo\"]])\n",
    "    "
   ]
  },
  {
   "cell_type": "markdown",
   "metadata": {},
   "source": [
    "### Programacion Dinamica\n",
    "- Objetos debiles\n",
    "- Objetos fuertes\n",
    "- De a grandes saltos de n y R"
   ]
  },
  {
   "cell_type": "code",
   "execution_count": 10,
   "metadata": {},
   "outputs": [],
   "source": [
    "#for n in range(0,300):\n",
    "#    fila_n = df_debiles.iloc[n];\n",
    "#    experimentos.append([fila_n[\"dataset\"], n+1, fila_n[\"R\"], \"DP\", fila_n[\"archivo\"]])\n",
    "\n",
    "#for n in range(0,200):\n",
    "#    fila_n = df_fuertes.iloc[n];\n",
    "#    experimentos.append([fila_n[\"dataset\"], n+1, fila_n[\"R\"], \"DP\", fila_n[\"archivo\"]])\n",
    "\n",
    "#for n in range(0, df_PD.shape[0]):\n",
    "#    fila_n = df_PD.iloc[n];\n",
    "#    experimentos.append([fila_n[\"dataset\"], fila_n[\"n\"], fila_n[\"R\"], \"DP\", fila_n[\"archivo\"]])\n",
    "    "
   ]
  },
  {
   "cell_type": "markdown",
   "metadata": {},
   "source": [
    "## Correr todo\n",
    "Darle tiempito"
   ]
  },
  {
   "cell_type": "code",
   "execution_count": null,
   "metadata": {},
   "outputs": [
    {
     "data": {
      "text/plain": [
       "'Experimento: 259/300'"
      ]
     },
     "metadata": {},
     "output_type": "display_data"
    }
   ],
   "source": [
    "columnas = [\"dataset\", \"n\", \"R\", \"metodo\", \"tiempo\"];\n",
    "filas = [];\n",
    "numero = 1\n",
    "T = 5 # Numero de veces que se ejecuta cada experimento (para mayor fidelidad del tiempo).\n",
    "for experimento in experimentos:\n",
    "    # Voy mostrando que experimento se esta ejecutando.\n",
    "    clear_output(wait=True)\n",
    "    display('Experimento: ' + str(numero) + \"/\" + str(len(experimentos)))\n",
    "    numero += 1\n",
    "    \n",
    "    tiempos = []\n",
    "    print(experimento[3])\n",
    "    for i in range(0, T):\n",
    "        tiempos.append(correrExperimento(experimento[3], experimento[4]));\n",
    "        print(tiempos)\n",
    "    tiempo = np.median(tiempos);\n",
    "    filas.append([experimento[0], experimento[1], experimento[2], experimento[3], tiempo]);\n",
    "df_resultado2 = pd.DataFrame(filas, columns=columnas);\n",
    "df_resultado2.to_csv(\"resultados/resultado5.csv\", index=False, header=True);"
   ]
  },
  {
   "cell_type": "code",
   "execution_count": null,
   "metadata": {},
   "outputs": [],
   "source": [
    "from platform import python_version\n",
    "\n",
    "print(python_version())"
   ]
  },
  {
   "cell_type": "code",
   "execution_count": null,
   "metadata": {},
   "outputs": [],
   "source": [
    "\n"
   ]
  },
  {
   "cell_type": "code",
   "execution_count": null,
   "metadata": {},
   "outputs": [],
   "source": []
  }
 ],
 "metadata": {
  "kernelspec": {
   "display_name": "Python 3",
   "language": "python",
   "name": "python3"
  },
  "language_info": {
   "codemirror_mode": {
    "name": "ipython",
    "version": 3
   },
   "file_extension": ".py",
   "mimetype": "text/x-python",
   "name": "python",
   "nbconvert_exporter": "python",
   "pygments_lexer": "ipython3",
   "version": "3.7.5"
  }
 },
 "nbformat": 4,
 "nbformat_minor": 2
}
