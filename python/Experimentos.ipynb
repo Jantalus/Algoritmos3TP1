{
 "cells": [
  {
   "cell_type": "code",
   "execution_count": null,
   "metadata": {},
   "outputs": [],
   "source": [
    "import subprocess as sp\n"
   ]
  },
  {
   "cell_type": "code",
   "execution_count": null,
   "metadata": {},
   "outputs": [],
   "source": [
    "def leerInstancia(path):\n",
    "    with open(path_instancia, \"r\") as f:\n",
    "    return f.read();\n",
    "\n",
    "def correrExperimento(metodo, archivoInstancia):\n",
    "    instancia = leerInstancia(archivoInstancia)\n",
    "    \n",
    "    p = sp.run([\"../main\", metodo], capture_output=True, text=True, shell=True, check=True)\n",
    "    # check verifica si salio con exit code 0 asi python puede levant\n",
    "    tiempo = p.stderr\n",
    "    \n",
    "    \n",
    "    return tiempo"
   ]
  }
 ],
 "metadata": {
  "kernelspec": {
   "display_name": "Python 3",
   "language": "python",
   "name": "python3"
  },
  "language_info": {
   "codemirror_mode": {
    "name": "ipython",
    "version": 3
   },
   "file_extension": ".py",
   "mimetype": "text/x-python",
   "name": "python",
   "nbconvert_exporter": "python",
   "pygments_lexer": "ipython3",
   "version": "3.7.3"
  }
 },
 "nbformat": 4,
 "nbformat_minor": 2
}
